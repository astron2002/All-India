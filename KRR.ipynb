{
 "cells": [
  {
   "cell_type": "code",
   "execution_count": 1,
   "id": "ba0a0f40-d54e-4712-89f1-122680fd514a",
   "metadata": {},
   "outputs": [
    {
     "name": "stdout",
     "output_type": "stream",
     "text": [
      "Name: Lion\n",
      "Habitat: Grasslands\n",
      "Type: Mammal\n"
     ]
    }
   ],
   "source": [
    "lion = {\n",
    "    \"name\": \"Lion\",\n",
    "    \"type\": \"Mammal\",\n",
    "    \"habitat\": \"Grasslands\",\n",
    "    \"diet\": \"Carnivorous\"\n",
    "}\n",
    "\n",
    "\n",
    "monkey = {\n",
    "    \"name\": \"Monkey\",\n",
    "    \"type\": \"Mammal\",\n",
    "    \"habitat\": \"Forest\",\n",
    "    \"diet\": \"Omnivorous\"\n",
    "}\n",
    "\n",
    "\n",
    "penguin = {\n",
    "    \"name\": \"Penguin\",\n",
    "    \"type\": \"Bird\",\n",
    "    \"habitat\": \"Antarctica\",\n",
    "    \"diet\": \"Carnivorous\"\n",
    "}\n",
    "print(\"Name:\", lion[\"name\"])\n",
    "print(\"Habitat:\", lion[\"habitat\"])\n",
    "# Define a frame for a cat that inherits from the mammal frame\n",
    "cat = {\n",
    "    \"name\": \"Cat\",\n",
    "    \"superclass\": monkey,\n",
    "    \"habitat\": \"Domestic\",\n",
    "    \"diet\": \"Carnivorous\",\n",
    "    \"has_fur\": True,\n",
    "    \"can_climb\": True\n",
    "}\n",
    "print(\"Type:\", cat[\"superclass\"][\"type\"])"
   ]
  },
  {
   "cell_type": "code",
   "execution_count": null,
   "id": "04a76a70-187f-4b79-8e11-b9e3b23bd5f2",
   "metadata": {},
   "outputs": [],
   "source": []
  }
 ],
 "metadata": {
  "kernelspec": {
   "display_name": "Python 3 (ipykernel)",
   "language": "python",
   "name": "python3"
  },
  "language_info": {
   "codemirror_mode": {
    "name": "ipython",
    "version": 3
   },
   "file_extension": ".py",
   "mimetype": "text/x-python",
   "name": "python",
   "nbconvert_exporter": "python",
   "pygments_lexer": "ipython3",
   "version": "3.10.9"
  }
 },
 "nbformat": 4,
 "nbformat_minor": 5
}
