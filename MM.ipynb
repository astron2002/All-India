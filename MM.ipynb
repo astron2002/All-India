{
 "cells": [
  {
   "cell_type": "code",
   "execution_count": 1,
   "id": "f812d174-81e7-4119-9799-c7125d6c28ff",
   "metadata": {},
   "outputs": [
    {
     "name": "stdout",
     "output_type": "stream",
     "text": [
      "The optimal value is : 12\n"
     ]
    }
   ],
   "source": [
    "# A simple Python3 program to find\n",
    "# maximum score that\n",
    "# maximizing player can get\n",
    "import math\n",
    "\n",
    "def minimax (curDepth, nodeIndex,\n",
    "\t\t\tmaxTurn, scores,\n",
    "\t\t\ttargetDepth):\n",
    "\n",
    "\t# base case : targetDepth reached\n",
    "\tif (curDepth == targetDepth):\n",
    "\t\treturn scores[nodeIndex]\n",
    "\t\n",
    "\tif (maxTurn):\n",
    "\t\treturn max(minimax(curDepth + 1, nodeIndex * 2,\n",
    "\t\t\t\t\tFalse, scores, targetDepth),\n",
    "\t\t\t\tminimax(curDepth + 1, nodeIndex * 2 + 1,\n",
    "\t\t\t\t\tFalse, scores, targetDepth))\n",
    "\t\n",
    "\telse:\n",
    "\t\treturn min(minimax(curDepth + 1, nodeIndex * 2,\n",
    "\t\t\t\t\tTrue, scores, targetDepth),\n",
    "\t\t\t\tminimax(curDepth + 1, nodeIndex * 2 + 1,\n",
    "\t\t\t\t\tTrue, scores, targetDepth))\n",
    "\t\n",
    "# Driver code\n",
    "scores = [3, 5, 2, 9, 12, 5, 23, 23]\n",
    "\n",
    "treeDepth = math.log(len(scores), 2)\n",
    "\n",
    "print(\"The optimal value is : \", end = \"\")\n",
    "print(minimax(0, 0, True, scores, treeDepth))\n",
    "\n",
    "# This code is contributed\n",
    "# by rootshadow\n"
   ]
  },
  {
   "cell_type": "code",
   "execution_count": null,
   "id": "dfbc2d58-0d14-4660-9858-98c5b67b567b",
   "metadata": {},
   "outputs": [],
   "source": []
  }
 ],
 "metadata": {
  "kernelspec": {
   "display_name": "Python 3 (ipykernel)",
   "language": "python",
   "name": "python3"
  },
  "language_info": {
   "codemirror_mode": {
    "name": "ipython",
    "version": 3
   },
   "file_extension": ".py",
   "mimetype": "text/x-python",
   "name": "python",
   "nbconvert_exporter": "python",
   "pygments_lexer": "ipython3",
   "version": "3.10.9"
  }
 },
 "nbformat": 4,
 "nbformat_minor": 5
}
