{
 "cells": [
  {
   "cell_type": "code",
   "execution_count": 5,
   "id": "5b15cda0-cdec-4ea9-a4de-2ec67f07a17a",
   "metadata": {},
   "outputs": [
    {
     "name": "stdout",
     "output_type": "stream",
     "text": [
      "The customer can rent an SUV.\n"
     ]
    }
   ],
   "source": [
    "# Define the propositional variables\n",
    "P1 = True  # The customer has a valid driver's license\n",
    "P2 = True  # The customer is at least 25 years old\n",
    "P3 = True  # The customer has a credit card with a high enough credit limit\n",
    "P4 = False # The customer has outstanding traffic violations\n",
    "P5 = False # The customer has a good driving record\n",
    "\n",
    "# Define the propositional formulas\n",
    "rule1 = P1 and P2 and not P5\n",
    "rule2 = P1 and P2 and P3 and not P4\n",
    "rule3 = P1 and P2 and P3 and not P4 and not P5\n",
    "\n",
    "# Determine which types of cars the customer can rent\n",
    "if rule3:\n",
    "    print(\"The customer can rent an SUV.\")\n",
    "elif rule2:\n",
    "    print(\"The customer can rent a luxury car.\")\n",
    "elif rule1:\n",
    "    print(\"The customer can rent any type of car.\")\n",
    "else:\n",
    "    print(\"The customer is not eligible to rent a car.\")"
   ]
  },
  {
   "cell_type": "code",
   "execution_count": null,
   "id": "2d5e6536-bd50-4d9f-9a3f-ffa12e05f72e",
   "metadata": {},
   "outputs": [],
   "source": []
  }
 ],
 "metadata": {
  "kernelspec": {
   "display_name": "Python 3 (ipykernel)",
   "language": "python",
   "name": "python3"
  },
  "language_info": {
   "codemirror_mode": {
    "name": "ipython",
    "version": 3
   },
   "file_extension": ".py",
   "mimetype": "text/x-python",
   "name": "python",
   "nbconvert_exporter": "python",
   "pygments_lexer": "ipython3",
   "version": "3.10.9"
  }
 },
 "nbformat": 4,
 "nbformat_minor": 5
}
